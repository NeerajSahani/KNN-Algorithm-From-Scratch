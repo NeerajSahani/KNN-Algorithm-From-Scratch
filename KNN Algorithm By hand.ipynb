{
 "cells": [
  {
   "cell_type": "markdown",
   "metadata": {},
   "source": [
    "# K Nearest Neighbour Algorithm"
   ]
  },
  {
   "cell_type": "code",
   "execution_count": 8,
   "metadata": {},
   "outputs": [],
   "source": [
    "import math\n",
    "import numpy as np\n",
    "import pandas as pd\n",
    "from collections import Counter\n",
    "from sklearn.model_selection import train_test_split"
   ]
  },
  {
   "cell_type": "code",
   "execution_count": 16,
   "metadata": {},
   "outputs": [],
   "source": [
    "import warnings\n",
    "warnings.filterwarnings('ignore')"
   ]
  },
  {
   "cell_type": "code",
   "execution_count": 2,
   "metadata": {},
   "outputs": [],
   "source": [
    "class KNN:\n",
    "    def __init__(self, k=5):\n",
    "        self.k=k\n",
    "        self.iter=0\n",
    "        \n",
    "    def fit(self, x, y):\n",
    "        self.x = x\n",
    "        self.y = y\n",
    "\n",
    "    def predict(self, value):\n",
    "        self.x['distance'] = np.nan\n",
    "\n",
    "        for i in self.x.index:\n",
    "            self.x['distance'][i]=np.linalg.norm((np.array(self.x.loc[i])[:-1]) - np.array(value))\n",
    "        \n",
    "        #print('Comes here end of distance')\n",
    "        #print(self.x['distance'])\n",
    "        self.x.sort_values('distance', inplace=True)\n",
    "\n",
    "        dic = {}\n",
    "        for indx in self.x.index[:self.k]:\n",
    "            CLASS = self.y[indx]\n",
    "            n = dic.get(CLASS)\n",
    "            if n is not None:\n",
    "                dic[CLASS] += 1\n",
    "            else:\n",
    "                dic[CLASS] = 1\n",
    "\n",
    "        max_value = 0\n",
    "        for key, value in dic.items():\n",
    "            if value > max_value:\n",
    "                max_value = value\n",
    "                desired_key = key\n",
    "        del(self.x['distance'])\n",
    "        return desired_key\n",
    "\n",
    "    def score(self, x_test, y_test):\n",
    "        self.fit(x_test, y_test)\n",
    "        plist=x_test.values.tolist()\n",
    "        cls,c,t = [],0,0\n",
    "        for j in y_test.index:\n",
    "            cls.append(y_test[j])\n",
    "        for i in range(len(plist)):\n",
    "            if cls[i] == self.predict(plist[i]):\n",
    "                c+=1\n",
    "            t+=1\n",
    "        return (c/t)\n",
    "        \n"
   ]
  },
  {
   "cell_type": "code",
   "execution_count": 5,
   "metadata": {},
   "outputs": [],
   "source": [
    "dt = pd.read_csv('http://archive.ics.uci.edu/ml/machine-learning-databases/breast-cancer-wisconsin/breast-cancer-wisconsin.data')\n",
    "dt.columns=['Sample code number','Clump Thickness','Uniformity of Cell Size','Uniformity of Cell Shape','Marginal Adhesion','Single Epithelial Cell Size','Bare Nuclei','Bland Chromatin','Normal Nucleoli','Mitoses','Class']\n",
    "dt.drop(['Sample code number'], 1, inplace=True)\n",
    "dt.replace('?', 999999999, inplace=True)\n",
    "dt['Bare Nuclei']=dt['Bare Nuclei'].astype(dtype=np.int64)"
   ]
  },
  {
   "cell_type": "code",
   "execution_count": 6,
   "metadata": {},
   "outputs": [
    {
     "data": {
      "text/plain": [
       "Index(['Clump Thickness', 'Uniformity of Cell Size',\n",
       "       'Uniformity of Cell Shape', 'Marginal Adhesion',\n",
       "       'Single Epithelial Cell Size', 'Bare Nuclei', 'Bland Chromatin',\n",
       "       'Normal Nucleoli', 'Mitoses', 'Class'],\n",
       "      dtype='object')"
      ]
     },
     "execution_count": 6,
     "metadata": {},
     "output_type": "execute_result"
    }
   ],
   "source": [
    "dt.columns"
   ]
  },
  {
   "cell_type": "code",
   "execution_count": 17,
   "metadata": {},
   "outputs": [
    {
     "name": "stdout",
     "output_type": "stream",
     "text": [
      "0.9828571428571429\n"
     ]
    }
   ],
   "source": [
    "alg=KNN()\n",
    "X=dt.drop('Class',1)\n",
    "y=dt['Class']\n",
    "X_train, X_test, y_train, y_test = train_test_split(X, y)\n",
    "\n",
    "alg.fit(X_train, y_train)\n",
    "z=alg.score(X_test, y_test)\n",
    "print(z)"
   ]
  },
  {
   "cell_type": "code",
   "execution_count": null,
   "metadata": {},
   "outputs": [],
   "source": []
  }
 ],
 "metadata": {
  "kernelspec": {
   "display_name": "Python 3",
   "language": "python",
   "name": "python3"
  },
  "language_info": {
   "codemirror_mode": {
    "name": "ipython",
    "version": 3
   },
   "file_extension": ".py",
   "mimetype": "text/x-python",
   "name": "python",
   "nbconvert_exporter": "python",
   "pygments_lexer": "ipython3",
   "version": "3.7.6"
  }
 },
 "nbformat": 4,
 "nbformat_minor": 2
}
